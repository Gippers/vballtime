{
 "cells": [
  {
   "cell_type": "markdown",
   "metadata": {},
   "source": [
    "# set\n",
    "\n",
    "> A set contains a set number of points, breaks, timeouts and other\n",
    "\n",
    "## Contents\n",
    "TODO this properly\n",
    "`VballSet`"
   ]
  },
  {
   "cell_type": "code",
   "execution_count": null,
   "metadata": {},
   "outputs": [],
   "source": [
    "#| default_exp vball_sets"
   ]
  },
  {
   "cell_type": "code",
   "execution_count": null,
   "metadata": {},
   "outputs": [],
   "source": [
    "#| export\n",
    "from nbdev.showdoc import *\n",
    "from nbdev import *\n",
    "import pandas as pd\n",
    "import numpy as np\n",
    "import matplotlib.pyplot as plt\n",
    "from fastcore.basics import patch"
   ]
  },
  {
   "cell_type": "markdown",
   "metadata": {},
   "source": [
    "Based on [this study](https://www.researchgate.net/publication/337366592_Rally_length_and_rest_time_in_women's_volleyball) assume that the length of a point and break between a set are normally distributed and equal to:\n",
    " - TODO should change to be left skewed\n",
    " \n",
    "Let PM be the point legth in a mens volleyball game\n",
    "$$PM \\sim N(4.99, 4.35^2)$$\n",
    "Let RM be the ress length in a mens volleyball games, \n",
    "$$RM \\sim N(29.02, 19.44^2)$$\n",
    "\n",
    "Let PW be the point legth in a womens volleyball game\n",
    "$$PW \\sim N(6.88, 5.92^2)$$\n",
    "Let RW be the ress length in a womens volleyball games, \n",
    "$$RW \\sim N(29.92, 18.21^2)$$\n",
    "\n",
    "Assume elite volleyball point times are comparable to ACT club times\n",
    "\n",
    "Assume that there are 3 timeouts per set\n",
    "- TODO change this eventually"
   ]
  },
  {
   "cell_type": "code",
   "execution_count": null,
   "metadata": {},
   "outputs": [],
   "source": [
    "# TODO remove normality assumption\n",
    "# TODO remove max 25 assumption"
   ]
  },
  {
   "cell_type": "markdown",
   "metadata": {},
   "source": [
    "Assume one team always gets 25 (doesn't go above)\n",
    "- Therefore the other team can't exceed 23"
   ]
  },
  {
   "cell_type": "markdown",
   "metadata": {},
   "source": [
    "Assume that the number of points for the second team follows a binomial distribution:\n",
    "$$X \\sim Bin(23, 0.85)$$"
   ]
  },
  {
   "cell_type": "code",
   "execution_count": null,
   "metadata": {},
   "outputs": [
    {
     "data": {
      "image/png": "[encoded data removed]",
      "text/plain": [
       "<Figure size 640x480 with 1 Axes>"
      ]
     },
     "metadata": {},
     "output_type": "display_data"
    }
   ],
   "source": [
    "test_bin = np.random.binomial(23, 0.85, 1000)\n",
    "plt.hist(test_bin)\n",
    "plt.show()"
   ]
  },
  {
   "cell_type": "code",
   "execution_count": null,
   "metadata": {},
   "outputs": [],
   "source": [
    "#| export\n",
    "class VballSet:\n",
    "    '''\n",
    "    Creates a set with and times the length of a set\n",
    "    '''\n",
    "    def __init__(self, \n",
    "             div:str): # The division of the set [PM, PW, RM, RW]\n",
    "        # Set the point variables\n",
    "        divisions = [\"PM\", \"PW\", \"RM\", \"RW\"]\n",
    "        assert div in str(divisions), \"Division is not valid must be: PM, PW, RM or RW\"\n",
    "        self.div = div\n",
    "        if div == \"PM\" or div == \"RM\":\n",
    "            self.point_mean = 4.99\n",
    "            self.point_sd = 4.35\n",
    "            self.rest_mean = 29.02\n",
    "            self.rest_sd = 19.44\n",
    "        else: \n",
    "            self.point_mean = 6.88\n",
    "            self.point_sd = 5.92\n",
    "            self.rest_mean = 28.92\n",
    "            self.rest_sd = 18.21\n",
    "            \n",
    "        # Determine the number of points. \n",
    "        self.points = 25 + int(np.random.binomial(23, 0.85, 1))\n",
    "        # 1 lest rest than points as last point doesn't have a break\n",
    "        self.rests = self.points - 1\n",
    "        \n",
    "        time_points = np.random.normal(self.point_mean, self.point_sd, self.points).sum()\n",
    "        \n",
    "        time_rests = np.random.normal(self.rest_mean, self.rest_sd, self.rests).sum()\n",
    "        \n",
    "        # 3 30s timeouts\n",
    "        time_timeouts = 3 * 30\n",
    "        \n",
    "        self.time_set = time_points + time_rests + time_timeouts        \n",
    "        \n",
    "    def __str__(self): return f\"{'Length of set is '}{int(self.time_set/60)}{' mins long'}\"\n",
    "    def __repr__(self): return repr(f'VballSet(\"{self.div}\")')"
   ]
  },
  {
   "cell_type": "code",
   "execution_count": null,
   "metadata": {},
   "outputs": [
    {
     "data": {
      "text/markdown": [
       "---\n",
       "\n",
       "[source](https://github.com/Gippers/vballtime/blob/main/vballtime/vball_sets.py#L15){target=\"_blank\" style=\"float:right; font-size:smaller\"}\n",
       "\n",
       "### Set\n",
       "\n",
       ">      Set (div:str)\n",
       "\n",
       "Creates a set with and times the length of a set\n",
       "\n",
       "|    | **Type** | **Details** |\n",
       "| -- | -------- | ----------- |\n",
       "| div | str | The division of the set [PM, PW, RM, RW] |"
      ],
      "text/plain": [
       "---\n",
       "\n",
       "[source](https://github.com/Gippers/vballtime/blob/main/vballtime/vball_sets.py#L15){target=\"_blank\" style=\"float:right; font-size:smaller\"}\n",
       "\n",
       "### Set\n",
       "\n",
       ">      Set (div:str)\n",
       "\n",
       "Creates a set with and times the length of a set\n",
       "\n",
       "|    | **Type** | **Details** |\n",
       "| -- | -------- | ----------- |\n",
       "| div | str | The division of the set [PM, PW, RM, RW] |"
      ]
     },
     "execution_count": null,
     "metadata": {},
     "output_type": "execute_result"
    }
   ],
   "source": [
    "show_doc(VballSet)"
   ]
  },
  {
   "cell_type": "code",
   "execution_count": null,
   "metadata": {},
   "outputs": [],
   "source": [
    "#| export\n",
    "@patch\n",
    "def GetTime(self:VballSet, # An function to output time of set ofr vball set\n",
    "           ) -> float: # Returns the time of the set in seconds \n",
    "    return self.time_set"
   ]
  },
  {
   "cell_type": "code",
   "execution_count": null,
   "metadata": {},
   "outputs": [
    {
     "ename": "NameError",
     "evalue": "name 'VballSet' is not defined",
     "output_type": "error",
     "traceback": [
      "\u001b[0;31m---------------------------------------------------------------------------\u001b[0m",
      "\u001b[0;31mNameError\u001b[0m                                 Traceback (most recent call last)",
      "Cell \u001b[0;32mIn[8], line 1\u001b[0m\n\u001b[0;32m----> 1\u001b[0m show_doc(\u001b[43mVballSet\u001b[49m\u001b[38;5;241m.\u001b[39mGetTime)\n",
      "\u001b[0;31mNameError\u001b[0m: name 'VballSet' is not defined"
     ]
    }
   ],
   "source": [
    "show_doc(VballSet.GetTime)"
   ]
  },
  {
   "cell_type": "markdown",
   "metadata": {},
   "source": [
    "## Tests\n",
    "Include some examples and unit tests below"
   ]
  },
  {
   "cell_type": "code",
   "execution_count": null,
   "metadata": {},
   "outputs": [],
   "source": [
    "pw_set = VballSet(\"PW\")"
   ]
  },
  {
   "cell_type": "code",
   "execution_count": null,
   "metadata": {},
   "outputs": [],
   "source": [
    "#| hide\n",
    "import nbdev; nbdev.nbdev_export()"
   ]
  },
  {
   "cell_type": "code",
   "execution_count": null,
   "metadata": {},
   "outputs": [],
   "source": []
  }
 ],
 "metadata": {
  "kernelspec": {
   "display_name": "python3",
   "language": "python",
   "name": "python3"
  }
 },
 "nbformat": 4,
 "nbformat_minor": 4
}
