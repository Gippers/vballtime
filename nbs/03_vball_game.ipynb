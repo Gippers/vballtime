{
 "cells": [
  {
   "cell_type": "markdown",
   "metadata": {},
   "source": [
    "# Vball Game\n",
    "\n",
    "> A game include three to 5 sets plus breaks between sets\n"
   ]
  },
  {
   "cell_type": "code",
   "execution_count": null,
   "metadata": {},
   "outputs": [],
   "source": [
    "#| default_exp vball_game"
   ]
  },
  {
   "cell_type": "code",
   "execution_count": null,
   "metadata": {},
   "outputs": [],
   "source": [
    "#| export\n",
    "from nbdev.showdoc import *\n",
    "from nbdev import *\n",
    "import pandas as pd\n",
    "import numpy as np\n",
    "import matplotlib.pyplot as plt\n",
    "from fastcore.basics import patch\n",
    "from vballtime.vball_set import VballSet"
   ]
  },
  {
   "cell_type": "markdown",
   "metadata": {},
   "source": [
    "Assumptions\n",
    "- let $S_n$ be the number of sets\n",
    "- assume number of sets is uniformly distrubted such that for $S_n$:\n",
    "$$S_n \\sim U(3, 5)$$\n",
    "- assume that the number of sets is indepent of the score of previous sets"
   ]
  },
  {
   "cell_type": "code",
   "execution_count": null,
   "metadata": {},
   "outputs": [],
   "source": [
    "#| export\n",
    "class VballGame:\n",
    "    '''\n",
    "    Creates a game with betwen 1 and 5 sets\n",
    "    '''\n",
    "    def __init__(self, \n",
    "             div:str): # The division of the set [PM, PW, RM, RW]\n",
    "        # Set the point variables\n",
    "        divisions = [\"PM\", \"PW\", \"RM\", \"RW\"]\n",
    "        assert div in str(divisions), \"Division is not valid must be: PM, PW, RM or RW\"\n",
    "        self.div = div\n",
    "        self.n_sets = np.random.randint(3, 5 + 1)\n",
    "        self.sets = []\n",
    "        self.time = 0\n",
    "        # TODO turn this into generator?\n",
    "        for i in range(self.n_sets):\n",
    "            # Fifth set has less points\n",
    "            if i == 4: self.sets.append(VballSet(self.div, set_5 = True))\n",
    "            else: self.sets.append(VballSet(self.div))\n",
    "            self.time += self.sets[i].get_time()\n",
    "            \n",
    "               \n",
    "        \n",
    "    def __str__(self): return f\"{self.div}{' game with '}{str(self.n_sets)}{' sets that takes '}{int(self.time/60)}{' minutes'}\"\n",
    "    def __repr__(self): return repr(f'VballSet(\"{self.div}\")')"
   ]
  },
  {
   "cell_type": "code",
   "execution_count": null,
   "metadata": {},
   "outputs": [
    {
     "data": {
      "text/markdown": [
       "---\n",
       "\n",
       "[source](https://github.com/Gippers/vballtime/blob/main/vballtime/vball_game.py#L16){target=\"_blank\" style=\"float:right; font-size:smaller\"}\n",
       "\n",
       "### VballGame\n",
       "\n",
       ">      VballGame (div:str)\n",
       "\n",
       "Creates a game with betwen 1 and 5 sets\n",
       "\n",
       "|    | **Type** | **Details** |\n",
       "| -- | -------- | ----------- |\n",
       "| div | str | The division of the set [PM, PW, RM, RW] |"
      ],
      "text/plain": [
       "---\n",
       "\n",
       "[source](https://github.com/Gippers/vballtime/blob/main/vballtime/vball_game.py#L16){target=\"_blank\" style=\"float:right; font-size:smaller\"}\n",
       "\n",
       "### VballGame\n",
       "\n",
       ">      VballGame (div:str)\n",
       "\n",
       "Creates a game with betwen 1 and 5 sets\n",
       "\n",
       "|    | **Type** | **Details** |\n",
       "| -- | -------- | ----------- |\n",
       "| div | str | The division of the set [PM, PW, RM, RW] |"
      ]
     },
     "execution_count": null,
     "metadata": {},
     "output_type": "execute_result"
    }
   ],
   "source": [
    "show_doc(VballGame)"
   ]
  },
  {
   "cell_type": "code",
   "execution_count": null,
   "metadata": {},
   "outputs": [],
   "source": [
    "#| export\n",
    "@patch\n",
    "def get_time(self:VballGame, # An function to output time of vball game\n",
    "           ) -> float: # Returns the time of the set in seconds \n",
    "    return self.time"
   ]
  },
  {
   "cell_type": "markdown",
   "metadata": {},
   "source": [
    "## Testing"
   ]
  },
  {
   "cell_type": "markdown",
   "metadata": {},
   "source": [
    "## Tests\n",
    "Include some examples and unit tests below"
   ]
  },
  {
   "cell_type": "code",
   "execution_count": null,
   "metadata": {},
   "outputs": [],
   "source": [
    "pw_game = VballGame(\"PW\")"
   ]
  },
  {
   "cell_type": "code",
   "execution_count": null,
   "metadata": {},
   "outputs": [
    {
     "data": {
      "text/plain": [
       "8392.580571350423"
      ]
     },
     "execution_count": null,
     "metadata": {},
     "output_type": "execute_result"
    }
   ],
   "source": [
    "pw_game.get_time()"
   ]
  },
  {
   "cell_type": "code",
   "execution_count": null,
   "metadata": {},
   "outputs": [
    {
     "data": {
      "text/plain": [
       "'PW game with 5 sets that takes 139 minutes'"
      ]
     },
     "execution_count": null,
     "metadata": {},
     "output_type": "execute_result"
    }
   ],
   "source": [
    "str(pw_game)"
   ]
  },
  {
   "cell_type": "code",
   "execution_count": null,
   "metadata": {},
   "outputs": [],
   "source": [
    "#| hide\n",
    "import nbdev; nbdev.nbdev_export()"
   ]
  }
 ],
 "metadata": {
  "kernelspec": {
   "display_name": "python3",
   "language": "python",
   "name": "python3"
  }
 },
 "nbformat": 4,
 "nbformat_minor": 4
}
